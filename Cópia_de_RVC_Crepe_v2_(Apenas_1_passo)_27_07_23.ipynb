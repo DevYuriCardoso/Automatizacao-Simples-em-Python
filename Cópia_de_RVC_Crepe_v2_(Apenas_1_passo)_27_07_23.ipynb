{
  "nbformat": 4,
  "nbformat_minor": 0,
  "metadata": {
    "colab": {
      "private_outputs": true,
      "provenance": [],
      "gpuType": "T4",
      "collapsed_sections": [
        "F6zbsuNs6xZF"
      ],
      "include_colab_link": true
    },
    "kernelspec": {
      "name": "python3",
      "display_name": "Python 3"
    },
    "language_info": {
      "name": "python"
    },
    "accelerator": "GPU"
  },
  "cells": [
    {
      "cell_type": "markdown",
      "metadata": {
        "id": "view-in-github",
        "colab_type": "text"
      },
      "source": [
        "<a href=\"https://colab.research.google.com/github/DevYuriCardoso/Automatizacao-Simples-em-Python/blob/main/C%C3%B3pia_de_RVC_Crepe_v2_(Apenas_1_passo)_27_07_23.ipynb\" target=\"_parent\"><img src=\"https://colab.research.google.com/assets/colab-badge.svg\" alt=\"Open In Colab\"/></a>"
      ]
    },
    {
      "cell_type": "markdown",
      "source": [
        "### GUIA UTILIZANDO RVC (AI COVER):\n",
        "https://docs.google.com/document/d/1Mmoocy4luVSFRqqGI1NGQHbMGKMNRPNyFrhJRuLEkcs/edit?usp=sharing\n",
        "\n",
        "### GUIA TREINANDO NO RVC\n",
        "https://docs.google.com/document/d/1NrZNvjydOy2HWtPsSlR6DUiKo-xC1UPZ\n",
        "\n",
        "### GUIA ORIGINAL POR KALOMAZE:\n",
        "https://docs.google.com/document/d/13_l1bd1Osgz7qlAZn-zhklCbHpVRk6bYOuAuB78qmsE/edit"
      ],
      "metadata": {
        "id": "2pShUKPuERDq"
      }
    },
    {
      "cell_type": "markdown",
      "source": [
        "##**AVISO** Este Colab é uma versão traduzida em PT-BR do guia feito por @kalomaze do AI HUB original. Link acima.\n",
        "\n",
        "####Discord AI HUB Brasil: https://discord.gg/aihubbrasil\n",
        "####Discord AI HUB Americano: https://discord.gg/aihub\n",
        "\n",
        "Observação: 'mangio-crepe' é superior ao 'crepe' tanto em treinamento quanto inferência. O 'hop size' não vai ser configuravel corretamente caso use o 'crepe'."
      ],
      "metadata": {
        "id": "_xhwKr85V74F"
      }
    },
    {
      "cell_type": "markdown",
      "source": [
        "#Etapa 1: Aperte no Play e espere terminar (Cerca de 1 Minuto)\n"
      ],
      "metadata": {
        "id": "F6zbsuNs6xZF"
      }
    },
    {
      "cell_type": "code",
      "execution_count": null,
      "metadata": {
        "id": "GmFP6bN9dvOq",
        "cellView": "form"
      },
      "outputs": [],
      "source": [
        "#@title Initialize External Code\n",
        "import time\n",
        "import os\n",
        "import subprocess\n",
        "import shutil\n",
        "\n",
        "# Store the current working directory\n",
        "current_path = os.getcwd()\n",
        "\n",
        "# Clear the /content/ directory\n",
        "shutil.rmtree('/content/')\n",
        "os.makedirs('/content/', exist_ok=True)\n",
        "\n",
        "# Change the current working directory back to the original path\n",
        "os.chdir(current_path)\n",
        "\n",
        "start_time = time.time()\n",
        "\n",
        "!nvidia-smi\n",
        "!git clone https://github.com/kalomaze/externalcolabcode.git /content/Retrieval-based-Voice-Conversion-WebUI/utils\n",
        "\n",
        "end_time = time.time()\n",
        "elapsed_time = end_time - start_time\n",
        "print(f\"Time taken for utils Download: {elapsed_time} seconds\")"
      ]
    },
    {
      "cell_type": "code",
      "source": [
        "#@title Install Dependencies and Clone Github Repository\n",
        "\n",
        "import threading\n",
        "\n",
        "start_time = time.time()\n",
        "\n",
        "os.chdir(\"/content/Retrieval-based-Voice-Conversion-WebUI/\")\n",
        "from utils.dependency import *\n",
        "from utils.clone_alt import *\n",
        "os.chdir(\"..\")\n",
        "\n",
        "end_time = time.time()\n",
        "elapsed_time = end_time - start_time\n",
        "print(f\"Time taken for imports: {elapsed_time} seconds\")\n",
        "\n",
        "#@markdown This will forcefully update dependencies even after the initial install seemed to have functioned.\n",
        "ForceUpdateDependencies = False #@param{type:\"boolean\"}\n",
        "#@markdown This will force temporary storage to be used, so it will download dependencies every time instead of on Drive. Not needed, unless you really want that 160mb storage. (Turned on by default for non-training colab to boost the initial launch speed)\n",
        "ForceTemporaryStorage = False #@param{type:\"boolean\"}\n",
        "\n",
        "# Setup environment\n",
        "print(\"Attempting to setup environment dependencies...\")\n",
        "print(\"\\n----------------------------------------\")\n",
        "\n",
        "start_time_setup = time.time()\n",
        "setup_environment(ForceUpdateDependencies, ForceTemporaryStorage)\n",
        "end_time_setup = time.time()\n",
        "elapsed_time_setup = end_time_setup - start_time_setup\n",
        "print(f\"Time taken for setup environment: {elapsed_time_setup} seconds\")\n",
        "\n",
        "print(\"----------------------------------------\\n\")\n",
        "print(\"Attempting to clone necessary files...\")\n",
        "print(\"\\n----------------------------------------\")\n",
        "\n",
        "start_time_clone = time.time()\n",
        "clone_repository(True)\n",
        "!wget https://huggingface.co/lj1995/VoiceConversionWebUI/resolve/main/rmvpe.pt -P /content/Retrieval-based-Voice-Conversion-WebUI/\n",
        "\n",
        "end_time_clone = time.time()\n",
        "elapsed_time_clone = end_time_clone - start_time_clone\n",
        "print(f\"Time taken for clone repository: {elapsed_time_clone} seconds\")\n",
        "\n",
        "print(\"----------------------------------------\\n\")\n",
        "print(\"Cell completed.\")\n",
        "\n",
        "total_time = elapsed_time + elapsed_time_setup + elapsed_time_clone\n",
        "print(f\"Total time taken: {total_time} seconds\")\n",
        "\n",
        "!pip install -q stftpitchshift==1.5.1"
      ],
      "metadata": {
        "id": "wjddIFr1oS3W",
        "cellView": "form"
      },
      "execution_count": null,
      "outputs": []
    },
    {
      "cell_type": "code",
      "source": [
        "# @title Tradução PT-BR\n",
        "# Instalando tradução PT-BR\n",
        "os.chdir('/content/')\n",
        "!wget https://raw.githubusercontent.com/MrM0dZ/EasyGUI-PT-BR-AHBR/main/i18n/pt_BR.json -P /content/Retrieval-based-Voice-Conversion-WebUI/i18n/\n",
        "!wget https://raw.githubusercontent.com/MrM0dZ/EasyGUI-PT-BR-AHBR/main/docs/faq_pt_BR.md -P /content/Retrieval-based-Voice-Conversion-WebUI/docs/\n",
        "\n",
        "!rm -f /content/Retrieval-based-Voice-Conversion-WebUI/EasierGUI.py;\n",
        "!wget https://raw.githubusercontent.com/MrM0dZ/EasyGUI-PT-BR-AHBR/main/EasierGUI.py -P /content/Retrieval-based-Voice-Conversion-WebUI/\n",
        "\n",
        "!rm -f /content/Retrieval-based-Voice-Conversion-WebUI/infer-web.py\n",
        "!wget https://raw.githubusercontent.com/MrM0dZ/EasyGUI-PT-BR-AHBR/main/infer-web.py -P /content/Retrieval-based-Voice-Conversion-WebUI/\n"
      ],
      "metadata": {
        "id": "S41pswrNaZsX",
        "cellView": "form"
      },
      "execution_count": null,
      "outputs": []
    },
    {
      "cell_type": "markdown",
      "source": [
        "#Etapa 2: Iniciar EasyGUI\n",
        "\n",
        "Aguarde o \"public URL\" aparecer e clique no link.\n",
        "\n",
        "![alt text](https://i.imgur.com/ZjuyG29.png)\n"
      ],
      "metadata": {
        "id": "Y13Eh9r_g8f-"
      }
    },
    {
      "cell_type": "code",
      "source": [
        "import os\n",
        "import threading\n",
        "import time\n",
        "from utils import backups\n",
        "\n",
        "#@markdown #Clique no Play para iniciar\n",
        "\n",
        "#@markdown Deixe essa opção marcada para utilizar o EasyGUI.\n",
        "easy_gui = True #@param{type:\"boolean\"}\n",
        "\n",
        "#@markdown Deixe essa opção marcada para utilizar os backups automaticos.\n",
        "auto_backups = True #@param{type:\"boolean\"}\n",
        "\n",
        "LOGS_FOLDER = '/content/Retrieval-based-Voice-Conversion-WebUI/logs'\n",
        "if not os.path.exists(LOGS_FOLDER):\n",
        "    os.makedirs(LOGS_FOLDER)\n",
        "\n",
        "WEIGHTS_FOLDER = '/content/Retrieval-based-Voice-Conversion-WebUI/weights'\n",
        "if not os.path.exists(WEIGHTS_FOLDER):\n",
        "    os.makedirs(WEIGHTS_FOLDER)\n",
        "\n",
        "def extract_wav2lip_tar_files():\n",
        "    !wget -P /content/ https://github.com/777gt/EVC/raw/main/wav2lip-HD.tar.gz\n",
        "    !wget -P /content/ https://github.com/777gt/EVC/raw/main/wav2lip-cache.tar.gz\n",
        "\n",
        "    with tarfile.open('/content/wav2lip-cache.tar.gz', 'r:gz') as tar:\n",
        "        for member in tar.getmembers():\n",
        "            target_path = os.path.join('/', member.name)\n",
        "            try:\n",
        "                tar.extract(member, '/')\n",
        "            except:\n",
        "                pass\n",
        "    with tarfile.open('/content/wav2lip-HD.tar.gz') as tar:\n",
        "        tar.extractall('/content')\n",
        "\n",
        "def start_web_server():\n",
        "    %cd /content/Retrieval-based-Voice-Conversion-WebUI\n",
        "    %load_ext tensorboard\n",
        "    %tensorboard --logdir /content/Retrieval-based-Voice-Conversion-WebUI/logs\n",
        "    !mkdir -p /content/Retrieval-based-Voice-Conversion-WebUI/audios\n",
        "    if easy_gui:\n",
        "        !pip install -q gTTS\n",
        "        !pip install -q elevenlabs\n",
        "        !wget https://github.com/777gt/-EVC-/raw/main/audios/someguy.mp3 -P /content/Retrieval-based-Voice-Conversion-WebUI/audios/\n",
        "        !wget https://github.com/777gt/-EVC-/raw/main/audios/somegirl.mp3 -P /content/Retrieval-based-Voice-Conversion-WebUI/audios/\n",
        "        extract_wav2lip_tar_files()\n",
        "        !python3 EasierGUI.py --colab --pycmd python3\n",
        "    else:\n",
        "        !python3 infer-web.py --colab --pycmd python3\n",
        "\n",
        "# Import the Google Drive backup before starting the server only if auto_backups is True\n",
        "if auto_backups:\n",
        "    backups.import_google_drive_backup()\n",
        "\n",
        "\n",
        "# Start the web server in a separate thread\n",
        "web_server_thread = threading.Thread(target=start_web_server)\n",
        "web_server_thread.start()\n",
        "\n",
        "# Run the backup loop in the main thread only if auto_backups is True\n",
        "if auto_backups:\n",
        "    backups.backup_files()\n",
        "else:\n",
        "    while True:\n",
        "        time.sleep(10) # sleep for 10 seconds\n",
        "\n"
      ],
      "metadata": {
        "id": "U8Sj2XBXbeN3"
      },
      "execution_count": null,
      "outputs": []
    },
    {
      "cell_type": "markdown",
      "source": [
        "#Credits\n",
        "##Creditos\n",
        "**MrM0dZ** - Tradução desse Colab, Guia do RVC, Revisão EasyGUI<br>\n",
        "**Rafa.Godoy** - Tradução do EasyGUI,RVC GUI e FAQ em PT-BR.<br>\n",
        "**Krisp** - Internacionalização do Projeto\n",
        "**Rejekts** - Autor original do colab author. Criou o Easy GUI para RVC<br>\n",
        "**RVC-Project dev team** - Desenvolvedores Originais do software RVC<br>\n",
        "**Mangio621** - Desenvolvedor do fork do RVC que adicionou suporte ao 'crepe'.<br>\n",
        "**Kalomaze** - Criador do colab original em inglês. Todo o codigo aqui funcionou devido aos seus esforços."
      ],
      "metadata": {
        "id": "8wyqMRzIbW96"
      }
    }
  ]
}